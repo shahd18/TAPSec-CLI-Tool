{
  "nbformat": 4,
  "nbformat_minor": 0,
  "metadata": {
    "colab": {
      "provenance": []
    },
    "kernelspec": {
      "name": "python3",
      "display_name": "Python 3"
    },
    "language_info": {
      "name": "python"
    }
  },
  "cells": [
    {
      "cell_type": "code",
      "execution_count": null,
      "metadata": {
        "colab": {
          "base_uri": "https://localhost:8080/"
        },
        "id": "UK8vPeI9TW75",
        "outputId": "3982e81d-416b-4a3a-db97-46411e58caf7"
      },
      "outputs": [
        {
          "output_type": "stream",
          "name": "stdout",
          "text": [
            "    Topic Number Generated Topic Name\n",
            "0              1       message status\n",
            "1              2              use way\n",
            "2              3          item applet\n",
            "3              4    opinion direction\n",
            "4              5  share automatically\n",
            "5              6          create post\n",
            "6              7      publish account\n",
            "7              8        tweet twitter\n",
            "8              9            photo url\n",
            "9             10       wordpress save\n",
            "10            11        evernote note\n",
            "11            12        facebook page\n",
            "12            13        update change\n",
            "13            14              add rss\n",
            "14            15              com pic\n",
            "New file with generated topic names saved to: keywords_with_generated_topic_names.csv\n"
          ]
        }
      ],
      "source": [
        "import pandas as pd\n",
        "import spacy\n",
        "\n",
        "# Load the dataset\n",
        "file_path = 'optimal_elbow_15_topics.csv'\n",
        "df = pd.read_csv(file_path)\n",
        "\n",
        "# Load spaCy's English model\n",
        "nlp = spacy.load(\"en_core_web_sm\")\n",
        "\n",
        "# Function to generate topic names based on keywords\n",
        "def generate_topic_name(keywords, num_words=2):\n",
        "    # Split keywords into individual words\n",
        "    words = keywords.split(\", \")\n",
        "    # Join the top 'num_words' significant words as the topic name\n",
        "    topic_name = \" \".join(words[:num_words])\n",
        "    return topic_name\n",
        "\n",
        "# Apply the function to create a new column with generated topic names\n",
        "df['Generated Topic Name'] = df['Keywords'].apply(generate_topic_name)\n",
        "\n",
        "# Function to reorder topic names to place verbs first if both verb and noun are present\n",
        "def reorder_verb_noun(topic_name):\n",
        "    doc = nlp(topic_name)\n",
        "    verbs = [token.text for token in doc if token.pos_ == 'VERB']\n",
        "    nouns = [token.text for token in doc if token.pos_ in ['NOUN', 'PROPN']]\n",
        "\n",
        "    # Check if both verb and noun exist, then place verb before noun\n",
        "    if verbs and nouns:\n",
        "        return f\"{verbs[0]} {nouns[0]}\"\n",
        "    else:\n",
        "        return topic_name  # Leave as-is if no verb is found\n",
        "\n",
        "# Apply the reorder function to the 'Generated Topic Name' column\n",
        "df['Generated Topic Name'] = df['Generated Topic Name'].apply(reorder_verb_noun)\n",
        "\n",
        "# Display selected columns of the modified DataFrame\n",
        "print(df[['Topic Number', 'Generated Topic Name']])\n",
        "\n",
        "# Save the modified DataFrame to a new CSV file\n",
        "output_file_path = 'keywords_with_generated_topic_names.csv'\n",
        "df.to_csv(output_file_path, index=False)\n",
        "print(f\"New file with generated topic names saved to: {output_file_path}\")"
      ]
    }
  ]
}